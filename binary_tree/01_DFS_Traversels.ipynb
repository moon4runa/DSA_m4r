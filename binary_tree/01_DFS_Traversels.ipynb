{
 "cells": [
  {
   "cell_type": "code",
   "execution_count": 4,
   "id": "10b7c77f-2861-4c26-8544-fda03de0c007",
   "metadata": {},
   "outputs": [],
   "source": [
    "class node:\n",
    "    def __init__(self, data):\n",
    "        self.data = data\n",
    "        self.left = None\n",
    "        self.right = None"
   ]
  },
  {
   "cell_type": "code",
   "execution_count": 5,
   "id": "b078d226-2c01-40a6-8b07-7f3e9c40eb61",
   "metadata": {},
   "outputs": [],
   "source": [
    "root = node(1)"
   ]
  },
  {
   "cell_type": "code",
   "execution_count": 6,
   "id": "a3644c18-b8db-4815-9c1e-f22acb231209",
   "metadata": {},
   "outputs": [],
   "source": [
    "root.left = node(2)\n",
    "root.right = node(3)\n",
    "root.left.left = node(4)\n",
    "root.left.right = node(5)\n",
    "root.right.left = node(6)\n",
    "root.right.right = node(7)"
   ]
  },
  {
   "cell_type": "code",
   "execution_count": 22,
   "id": "e30570d3-2257-45fe-907f-608bc70b600f",
   "metadata": {},
   "outputs": [],
   "source": [
    "def preorder(root):\n",
    "    if root == None:\n",
    "        return\n",
    "    print(root.data, end= \" \")\n",
    "    preorder(root.left)\n",
    "    preorder(root.right)\n",
    "\n",
    "def inorder(root):\n",
    "    if root == None:\n",
    "        return\n",
    "    inorder(root.left)\n",
    "    print(root.data, end = \" \")\n",
    "    inorder(root.right)\n",
    "\n",
    "def postorder(root):\n",
    "    if root == None:\n",
    "        return\n",
    "    postorder(root.left)\n",
    "    postorder(root.right)\n",
    "    print(root.data, end=\" \")\n"
   ]
  },
  {
   "cell_type": "code",
   "execution_count": 23,
   "id": "c4988dfe-682e-4570-ae80-ee837eb07e91",
   "metadata": {},
   "outputs": [
    {
     "name": "stdout",
     "output_type": "stream",
     "text": [
      "PreOrder: 1 2 4 5 3 6 7 \n",
      "InOrder: 4 2 5 1 6 3 7 \n",
      "PostOrder: 4 5 2 6 7 3 1 \n"
     ]
    }
   ],
   "source": [
    "print(\"PreOrder: \", end =\"\")\n",
    "preorder(root)\n",
    "print()\n",
    "print(\"InOrder: \", end =\"\")\n",
    "inorder(root)\n",
    "print()\n",
    "print(\"PostOrder: \", end =\"\")\n",
    "postorder(root)\n",
    "print()\n"
   ]
  },
  {
   "cell_type": "code",
   "execution_count": null,
   "id": "ad19fcae-fa00-47cb-b4ec-f80a9118ff64",
   "metadata": {},
   "outputs": [],
   "source": []
  }
 ],
 "metadata": {
  "kernelspec": {
   "display_name": "Python 3 (ipykernel)",
   "language": "python",
   "name": "python3"
  },
  "language_info": {
   "codemirror_mode": {
    "name": "ipython",
    "version": 3
   },
   "file_extension": ".py",
   "mimetype": "text/x-python",
   "name": "python",
   "nbconvert_exporter": "python",
   "pygments_lexer": "ipython3",
   "version": "3.9.6"
  }
 },
 "nbformat": 4,
 "nbformat_minor": 5
}
