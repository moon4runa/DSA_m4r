{
 "cells": [
  {
   "cell_type": "code",
   "execution_count": 1,
   "id": "94812cc0-ff34-454f-b890-f2328385c0fe",
   "metadata": {},
   "outputs": [],
   "source": [
    "class node:\n",
    "    def __init__(self, data):\n",
    "        self.data = data\n",
    "        self.left = None\n",
    "        self.right = None"
   ]
  },
  {
   "cell_type": "code",
   "execution_count": 2,
   "id": "cc629826-fb85-4c80-b8b7-a55274358430",
   "metadata": {},
   "outputs": [],
   "source": [
    "root = node(1)\n",
    "root.left = node(2)\n",
    "root.right = node(3)\n",
    "root.left.left = node(4)\n",
    "root.left.right = node(5)\n",
    "root.right.left = node(6)\n",
    "root.right.right = node(7)"
   ]
  },
  {
   "cell_type": "code",
   "execution_count": 5,
   "id": "6179550a-5fdc-46d9-b277-26f37b396d0f",
   "metadata": {},
   "outputs": [],
   "source": [
    "def levelorder(root):\n",
    "    res = []\n",
    "    q = []\n",
    "    q.append(root)\n",
    "    while len(q) > 0:\n",
    "        curr = q[0]\n",
    "        q.pop(0)\n",
    "        res.append(curr.data)\n",
    "        if curr.left:\n",
    "            q.append(curr.left)\n",
    "        if curr.right:\n",
    "            q.append(curr.right)\n",
    "    for i in res:\n",
    "        print(i, end=\" \")"
   ]
  },
  {
   "cell_type": "code",
   "execution_count": 6,
   "id": "2a107b83-6041-401d-922c-9c155cc1a851",
   "metadata": {},
   "outputs": [
    {
     "name": "stdout",
     "output_type": "stream",
     "text": [
      "1 2 3 4 5 6 7 "
     ]
    }
   ],
   "source": [
    "levelorder(root)"
   ]
  },
  {
   "cell_type": "code",
   "execution_count": null,
   "id": "19743e51-48a5-4c59-8866-4b8d8db7c27d",
   "metadata": {},
   "outputs": [],
   "source": [
    "|"
   ]
  }
 ],
 "metadata": {
  "kernelspec": {
   "display_name": "Python 3 (ipykernel)",
   "language": "python",
   "name": "python3"
  },
  "language_info": {
   "codemirror_mode": {
    "name": "ipython",
    "version": 3
   },
   "file_extension": ".py",
   "mimetype": "text/x-python",
   "name": "python",
   "nbconvert_exporter": "python",
   "pygments_lexer": "ipython3",
   "version": "3.9.6"
  }
 },
 "nbformat": 4,
 "nbformat_minor": 5
}
